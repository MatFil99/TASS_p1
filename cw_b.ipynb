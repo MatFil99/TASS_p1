{
 "cells": [
  {
   "cell_type": "markdown",
   "id": "812639bd",
   "metadata": {},
   "source": [
    "# TASS Projekt 1 - ćwiczenie B\n",
    "Filip Mazur, 300224\n",
    "2022Z"
   ]
  },
  {
   "cell_type": "code",
   "execution_count": 3,
   "id": "c9237cff",
   "metadata": {},
   "outputs": [],
   "source": [
    "import networkx as nx\n",
    "import numpy as np\n",
    "import random\n",
    "import statistics\n",
    "\n",
    "from sklearn.linear_model import LinearRegression\n",
    "import matplotlib.pyplot as plt\n",
    "plt.style.use('classic')\n",
    "import numpy as np\n",
    "%matplotlib inline"
   ]
  },
  {
   "cell_type": "code",
   "execution_count": 4,
   "id": "6a738611",
   "metadata": {},
   "outputs": [],
   "source": [
    "# read file and save to list\n",
    "with open(\"dane/data_cw2.txt\", \"r\") as fd:\n",
    "    edges = [tuple(map(int, line.rstrip().split(\" \"))) for line in fd]"
   ]
  },
  {
   "cell_type": "code",
   "execution_count": 5,
   "id": "18a0355d",
   "metadata": {},
   "outputs": [
    {
     "data": {
      "text/plain": [
       "[(1, 2),\n",
       " (3, 2),\n",
       " (3, 4),\n",
       " (5, 2),\n",
       " (5, 6),\n",
       " (7, 2),\n",
       " (7, 8),\n",
       " (7, 9),\n",
       " (7, 10),\n",
       " (11, 12)]"
      ]
     },
     "execution_count": 5,
     "metadata": {},
     "output_type": "execute_result"
    }
   ],
   "source": [
    "# check if edges are loaded properly\n",
    "edges[:10]"
   ]
  },
  {
   "cell_type": "code",
   "execution_count": 6,
   "id": "e78f65cd",
   "metadata": {},
   "outputs": [
    {
     "data": {
      "text/plain": [
       "[0,\n",
       " 0,\n",
       " 0,\n",
       " 0,\n",
       " 0,\n",
       " 0,\n",
       " 0,\n",
       " 0,\n",
       " 0,\n",
       " 0,\n",
       " 0,\n",
       " 0,\n",
       " 1,\n",
       " 1,\n",
       " 1,\n",
       " 1,\n",
       " 1,\n",
       " 1,\n",
       " 0,\n",
       " 0,\n",
       " 1,\n",
       " 0,\n",
       " 0,\n",
       " 1,\n",
       " 1,\n",
       " 1,\n",
       " 1,\n",
       " 0,\n",
       " 0,\n",
       " 0,\n",
       " 0,\n",
       " 1,\n",
       " 0,\n",
       " 1,\n",
       " 1,\n",
       " 1,\n",
       " 1,\n",
       " 1,\n",
       " 1,\n",
       " 1,\n",
       " 1,\n",
       " 1,\n",
       " 0,\n",
       " 0,\n",
       " 2,\n",
       " 0,\n",
       " 1,\n",
       " 1,\n",
       " 0,\n",
       " 0,\n",
       " 0,\n",
       " 0,\n",
       " 0,\n",
       " 0,\n",
       " 1,\n",
       " 0,\n",
       " 1,\n",
       " 1,\n",
       " 3,\n",
       " 1,\n",
       " 1,\n",
       " 1,\n",
       " 1,\n",
       " 0,\n",
       " 0,\n",
       " 0,\n",
       " 0,\n",
       " 0,\n",
       " 0,\n",
       " 1,\n",
       " 1,\n",
       " 1,\n",
       " 0,\n",
       " 0,\n",
       " 1,\n",
       " 1,\n",
       " 0,\n",
       " 1,\n",
       " 1,\n",
       " 1,\n",
       " 1,\n",
       " 0,\n",
       " 0,\n",
       " 0,\n",
       " 0,\n",
       " 0,\n",
       " 0,\n",
       " 1,\n",
       " 0,\n",
       " 0,\n",
       " 0,\n",
       " 1,\n",
       " 0,\n",
       " 0,\n",
       " 0,\n",
       " 1,\n",
       " 1,\n",
       " 1,\n",
       " 1,\n",
       " 1,\n",
       " 1,\n",
       " 1,\n",
       " 1,\n",
       " 0,\n",
       " 0,\n",
       " 0,\n",
       " 1,\n",
       " 1,\n",
       " 0,\n",
       " 0,\n",
       " 0,\n",
       " 1,\n",
       " 1,\n",
       " 1,\n",
       " 1,\n",
       " 0,\n",
       " 0,\n",
       " 0,\n",
       " 0,\n",
       " 0,\n",
       " 0,\n",
       " 0,\n",
       " 0,\n",
       " 1,\n",
       " 1,\n",
       " 1,\n",
       " 1,\n",
       " 1,\n",
       " 1,\n",
       " 0,\n",
       " 0,\n",
       " 0,\n",
       " 0,\n",
       " 0,\n",
       " 0,\n",
       " 0,\n",
       " 0,\n",
       " 0,\n",
       " 0,\n",
       " 0,\n",
       " 0,\n",
       " 0,\n",
       " 0,\n",
       " 1,\n",
       " 0,\n",
       " 1,\n",
       " 0,\n",
       " 0,\n",
       " 0,\n",
       " 1,\n",
       " 1,\n",
       " 0,\n",
       " 1,\n",
       " 1,\n",
       " 1,\n",
       " 1,\n",
       " 1,\n",
       " 1,\n",
       " 0,\n",
       " 1,\n",
       " 0,\n",
       " 1,\n",
       " 1,\n",
       " 1,\n",
       " 1,\n",
       " 1,\n",
       " 1,\n",
       " 1,\n",
       " 1,\n",
       " 1,\n",
       " 0,\n",
       " 0,\n",
       " 0,\n",
       " 0,\n",
       " 0,\n",
       " 0,\n",
       " 0,\n",
       " 0,\n",
       " 0,\n",
       " 0,\n",
       " 0,\n",
       " 0,\n",
       " 0,\n",
       " 0,\n",
       " 0,\n",
       " 0,\n",
       " 0,\n",
       " 0,\n",
       " 0,\n",
       " 0,\n",
       " 1,\n",
       " 1,\n",
       " 1,\n",
       " 1,\n",
       " 1,\n",
       " 1,\n",
       " 1,\n",
       " 1,\n",
       " 1,\n",
       " 1,\n",
       " 0,\n",
       " 0,\n",
       " 0,\n",
       " 0,\n",
       " 0,\n",
       " 0,\n",
       " 0,\n",
       " 1,\n",
       " 1,\n",
       " 1,\n",
       " 1,\n",
       " 1,\n",
       " 1,\n",
       " 1,\n",
       " 0,\n",
       " 0,\n",
       " 0,\n",
       " 1,\n",
       " 0,\n",
       " 0,\n",
       " 0,\n",
       " 0,\n",
       " 0,\n",
       " 0,\n",
       " 1,\n",
       " 0,\n",
       " 0,\n",
       " 1,\n",
       " 1,\n",
       " 0,\n",
       " 0,\n",
       " 0,\n",
       " 0,\n",
       " 1,\n",
       " 0,\n",
       " 0,\n",
       " 0,\n",
       " 1,\n",
       " 1,\n",
       " 0,\n",
       " 1,\n",
       " 1,\n",
       " 1,\n",
       " 1,\n",
       " 1,\n",
       " 1,\n",
       " 1,\n",
       " 0,\n",
       " 0,\n",
       " 1,\n",
       " 1,\n",
       " 0,\n",
       " 1,\n",
       " 0,\n",
       " 1,\n",
       " 1,\n",
       " 1,\n",
       " 1,\n",
       " 1,\n",
       " 1,\n",
       " 0,\n",
       " 0,\n",
       " 0,\n",
       " 0,\n",
       " 0,\n",
       " 1,\n",
       " 1,\n",
       " 1,\n",
       " 1,\n",
       " 1,\n",
       " 0,\n",
       " 0,\n",
       " 1,\n",
       " 0,\n",
       " 0,\n",
       " 1,\n",
       " 0,\n",
       " 1,\n",
       " 1,\n",
       " 1,\n",
       " 0,\n",
       " 1,\n",
       " 0,\n",
       " 0,\n",
       " 0,\n",
       " 0,\n",
       " 1,\n",
       " 0,\n",
       " 0,\n",
       " 0,\n",
       " 1,\n",
       " 1,\n",
       " 0,\n",
       " 0,\n",
       " 0,\n",
       " 0,\n",
       " 1,\n",
       " 0,\n",
       " 1,\n",
       " 1,\n",
       " 0,\n",
       " 0,\n",
       " 1,\n",
       " 1,\n",
       " 1,\n",
       " 1,\n",
       " 0,\n",
       " 1,\n",
       " 1,\n",
       " 1,\n",
       " 1,\n",
       " 1,\n",
       " 0,\n",
       " 0,\n",
       " 0,\n",
       " 0,\n",
       " 0,\n",
       " 0,\n",
       " 1,\n",
       " 0,\n",
       " 0,\n",
       " 0,\n",
       " 0,\n",
       " 0,\n",
       " 1,\n",
       " 0,\n",
       " 0,\n",
       " 0,\n",
       " 0,\n",
       " 0,\n",
       " 0,\n",
       " 0,\n",
       " 0,\n",
       " 0,\n",
       " 0,\n",
       " 0,\n",
       " 1,\n",
       " 0,\n",
       " 0,\n",
       " 1,\n",
       " 1,\n",
       " 1,\n",
       " 0,\n",
       " 1,\n",
       " 0,\n",
       " 1,\n",
       " 0,\n",
       " 1,\n",
       " 0,\n",
       " 1,\n",
       " 0,\n",
       " 1,\n",
       " 1,\n",
       " 1,\n",
       " 1,\n",
       " 1,\n",
       " 1,\n",
       " 0,\n",
       " 1,\n",
       " 1,\n",
       " 1,\n",
       " 0,\n",
       " 1,\n",
       " 1,\n",
       " 1,\n",
       " 1,\n",
       " 1,\n",
       " 1,\n",
       " 1,\n",
       " 0,\n",
       " 1,\n",
       " 0,\n",
       " 1,\n",
       " 1,\n",
       " 1,\n",
       " 1,\n",
       " 0,\n",
       " 0,\n",
       " 0,\n",
       " 0,\n",
       " 1,\n",
       " 0,\n",
       " 0,\n",
       " 0,\n",
       " 0,\n",
       " 0,\n",
       " 0,\n",
       " 0,\n",
       " 0,\n",
       " 0,\n",
       " 1,\n",
       " 0,\n",
       " 0,\n",
       " 0,\n",
       " 0,\n",
       " 0,\n",
       " 0,\n",
       " 0,\n",
       " 1,\n",
       " 1,\n",
       " 1,\n",
       " 1,\n",
       " 1,\n",
       " 1,\n",
       " 1,\n",
       " 1,\n",
       " 1,\n",
       " 1,\n",
       " 1,\n",
       " 1,\n",
       " 1,\n",
       " 1,\n",
       " 0,\n",
       " 0,\n",
       " 1,\n",
       " 1,\n",
       " 1,\n",
       " 0,\n",
       " 0,\n",
       " 0,\n",
       " 1,\n",
       " 0,\n",
       " 0,\n",
       " 0,\n",
       " 1,\n",
       " 1,\n",
       " 0,\n",
       " 0,\n",
       " 0,\n",
       " 0,\n",
       " 0,\n",
       " 0,\n",
       " 1,\n",
       " 1,\n",
       " 1,\n",
       " 1,\n",
       " 0,\n",
       " 1,\n",
       " 1,\n",
       " 1,\n",
       " 1,\n",
       " 1,\n",
       " 1,\n",
       " 0,\n",
       " 0,\n",
       " 0,\n",
       " 0,\n",
       " 0,\n",
       " 0,\n",
       " 0,\n",
       " 0,\n",
       " 0,\n",
       " 0,\n",
       " 0,\n",
       " 0,\n",
       " 1,\n",
       " 1,\n",
       " 1,\n",
       " 0,\n",
       " 0,\n",
       " 0,\n",
       " 0,\n",
       " 0,\n",
       " 0,\n",
       " 0,\n",
       " 1,\n",
       " 1,\n",
       " 0,\n",
       " 1,\n",
       " 0,\n",
       " 0,\n",
       " 0,\n",
       " 0,\n",
       " 0,\n",
       " 1,\n",
       " 1,\n",
       " 0,\n",
       " 1,\n",
       " 1,\n",
       " 1,\n",
       " 0,\n",
       " 0,\n",
       " 0,\n",
       " 0,\n",
       " 1,\n",
       " 1,\n",
       " 1,\n",
       " 1,\n",
       " 0,\n",
       " 1,\n",
       " 1,\n",
       " 1,\n",
       " 0,\n",
       " 1,\n",
       " 1,\n",
       " 0,\n",
       " 1,\n",
       " 1,\n",
       " 1,\n",
       " 1,\n",
       " 0,\n",
       " 1,\n",
       " 1,\n",
       " 1,\n",
       " 1,\n",
       " 1,\n",
       " 1,\n",
       " 1,\n",
       " 1,\n",
       " 1,\n",
       " 0,\n",
       " 0,\n",
       " 0,\n",
       " 0,\n",
       " 0,\n",
       " 0,\n",
       " 0,\n",
       " 0,\n",
       " 0,\n",
       " 0,\n",
       " 0,\n",
       " 1,\n",
       " 1,\n",
       " 1,\n",
       " 1,\n",
       " 0,\n",
       " 0,\n",
       " 0,\n",
       " 0,\n",
       " 0,\n",
       " 0,\n",
       " 0,\n",
       " 1,\n",
       " 0,\n",
       " 1,\n",
       " 0,\n",
       " 1,\n",
       " 1,\n",
       " 1,\n",
       " 0,\n",
       " 1,\n",
       " 1,\n",
       " 1,\n",
       " 1,\n",
       " 1,\n",
       " 0,\n",
       " 1,\n",
       " 1,\n",
       " 1,\n",
       " 1,\n",
       " 1,\n",
       " 1,\n",
       " 1,\n",
       " 1,\n",
       " 0,\n",
       " 0,\n",
       " 0,\n",
       " 0,\n",
       " 1,\n",
       " 1,\n",
       " 0,\n",
       " 0,\n",
       " 0,\n",
       " 1,\n",
       " 1,\n",
       " 0,\n",
       " 0,\n",
       " 0,\n",
       " 0,\n",
       " 0,\n",
       " 0,\n",
       " 0,\n",
       " 1,\n",
       " 1,\n",
       " 1,\n",
       " 1,\n",
       " 1,\n",
       " 1,\n",
       " 1,\n",
       " 1,\n",
       " 0,\n",
       " 0,\n",
       " 0,\n",
       " 0,\n",
       " 0,\n",
       " 1,\n",
       " 0,\n",
       " 0,\n",
       " 0,\n",
       " 1,\n",
       " 1,\n",
       " 1,\n",
       " 0,\n",
       " 0,\n",
       " 0,\n",
       " 0,\n",
       " 1,\n",
       " 1,\n",
       " 0,\n",
       " 1,\n",
       " 1,\n",
       " 1,\n",
       " 1,\n",
       " 1,\n",
       " 0,\n",
       " 0,\n",
       " 0,\n",
       " 0,\n",
       " 0,\n",
       " 0,\n",
       " 0,\n",
       " 0,\n",
       " 0,\n",
       " 0,\n",
       " 0,\n",
       " 1,\n",
       " 0,\n",
       " 0,\n",
       " 0,\n",
       " 1,\n",
       " 1,\n",
       " 0,\n",
       " 0,\n",
       " 0,\n",
       " 0,\n",
       " 0,\n",
       " 0,\n",
       " 0,\n",
       " 0,\n",
       " 0,\n",
       " 0,\n",
       " 0,\n",
       " 0,\n",
       " 0,\n",
       " 0,\n",
       " 0,\n",
       " 0,\n",
       " 0,\n",
       " 0,\n",
       " 0,\n",
       " 0,\n",
       " 0,\n",
       " 0,\n",
       " 0,\n",
       " 0,\n",
       " 0,\n",
       " 0,\n",
       " 0,\n",
       " 0,\n",
       " 0,\n",
       " 0,\n",
       " 0,\n",
       " 0,\n",
       " 0,\n",
       " 0,\n",
       " 0,\n",
       " 1,\n",
       " 0,\n",
       " 0,\n",
       " 0,\n",
       " 0,\n",
       " 0,\n",
       " 0,\n",
       " 1,\n",
       " 1,\n",
       " 1,\n",
       " 1,\n",
       " 0,\n",
       " 0,\n",
       " 0,\n",
       " 0,\n",
       " 0,\n",
       " 0,\n",
       " 0,\n",
       " 0,\n",
       " 0,\n",
       " 0,\n",
       " 0,\n",
       " 0,\n",
       " 0,\n",
       " 0,\n",
       " 0,\n",
       " 0,\n",
       " 0,\n",
       " 0,\n",
       " 0,\n",
       " 0,\n",
       " 0,\n",
       " 0,\n",
       " 0,\n",
       " 0,\n",
       " 0,\n",
       " 0,\n",
       " 0,\n",
       " 0,\n",
       " 0,\n",
       " 0,\n",
       " 0,\n",
       " 0,\n",
       " 0,\n",
       " 0,\n",
       " 0,\n",
       " 0,\n",
       " 0,\n",
       " 0,\n",
       " 0,\n",
       " 0,\n",
       " 0,\n",
       " 0,\n",
       " 0,\n",
       " 0,\n",
       " 0,\n",
       " 0,\n",
       " 0,\n",
       " 0,\n",
       " 0,\n",
       " 0,\n",
       " 1,\n",
       " 0,\n",
       " 0,\n",
       " 0,\n",
       " 0,\n",
       " 1,\n",
       " 1,\n",
       " 0,\n",
       " 0,\n",
       " 0,\n",
       " 0,\n",
       " 0,\n",
       " 1,\n",
       " 0,\n",
       " 1,\n",
       " 0,\n",
       " 1,\n",
       " 0,\n",
       " 0,\n",
       " 0,\n",
       " 1,\n",
       " 1,\n",
       " 0,\n",
       " 0,\n",
       " 0,\n",
       " 1,\n",
       " 1,\n",
       " 1,\n",
       " 1,\n",
       " 1,\n",
       " 1,\n",
       " 1,\n",
       " 1,\n",
       " 0,\n",
       " 0,\n",
       " 0,\n",
       " 1,\n",
       " 0,\n",
       " 0,\n",
       " 1,\n",
       " 1,\n",
       " 1,\n",
       " 1,\n",
       " 1,\n",
       " 0,\n",
       " 0,\n",
       " 0,\n",
       " 0,\n",
       " 0,\n",
       " 0,\n",
       " 0,\n",
       " 0,\n",
       " 0,\n",
       " 0,\n",
       " 0,\n",
       " 1,\n",
       " 1,\n",
       " 1,\n",
       " 1,\n",
       " 0,\n",
       " 0,\n",
       " 1,\n",
       " 0,\n",
       " 1,\n",
       " 0,\n",
       " 0,\n",
       " 1,\n",
       " 0,\n",
       " 1,\n",
       " 1,\n",
       " 0,\n",
       " 0,\n",
       " 1,\n",
       " 1,\n",
       " 1,\n",
       " 1,\n",
       " 1,\n",
       " 1,\n",
       " 0,\n",
       " 0,\n",
       " 0,\n",
       " 0,\n",
       " 0,\n",
       " 0,\n",
       " 0,\n",
       " 0,\n",
       " 0,\n",
       " 0,\n",
       " 0,\n",
       " 1,\n",
       " 0,\n",
       " 1,\n",
       " 1,\n",
       " 1,\n",
       " 1,\n",
       " 0,\n",
       " 0,\n",
       " 0,\n",
       " 0,\n",
       " 1,\n",
       " 0,\n",
       " 0,\n",
       " 1,\n",
       " 1,\n",
       " 1,\n",
       " 1,\n",
       " 1,\n",
       " 0,\n",
       " 1,\n",
       " 1,\n",
       " 0,\n",
       " 1,\n",
       " 1,\n",
       " 1,\n",
       " 1,\n",
       " 1,\n",
       " 0,\n",
       " 0,\n",
       " 0,\n",
       " 1,\n",
       " 1,\n",
       " 1,\n",
       " 0,\n",
       " 0,\n",
       " 0,\n",
       " 1,\n",
       " 1,\n",
       " 1,\n",
       " 1,\n",
       " 1,\n",
       " 0,\n",
       " 0,\n",
       " 1,\n",
       " 1,\n",
       " 1,\n",
       " 1,\n",
       " 1,\n",
       " 1,\n",
       " 1,\n",
       " 0,\n",
       " 1,\n",
       " 1,\n",
       " 0,\n",
       " 0,\n",
       " 0,\n",
       " 1,\n",
       " 1,\n",
       " 1,\n",
       " 0,\n",
       " 0,\n",
       " 1,\n",
       " 1,\n",
       " 0,\n",
       " 1,\n",
       " 1,\n",
       " 1,\n",
       " 1,\n",
       " 1,\n",
       " 1,\n",
       " 1,\n",
       " 0,\n",
       " 0,\n",
       " 0,\n",
       " 1,\n",
       " 1,\n",
       " 1,\n",
       " 1,\n",
       " 1,\n",
       " 1,\n",
       " 1,\n",
       " 1,\n",
       " 1,\n",
       " 1,\n",
       " 1,\n",
       " 1,\n",
       " 1,\n",
       " 1,\n",
       " 0,\n",
       " 0,\n",
       " 0,\n",
       " 1,\n",
       " 1,\n",
       " 0,\n",
       " 1,\n",
       " 1,\n",
       " 1,\n",
       " 1,\n",
       " 1,\n",
       " 1,\n",
       " 1,\n",
       " 1,\n",
       " 1,\n",
       " 0,\n",
       " 1,\n",
       " 1,\n",
       " 1,\n",
       " 1,\n",
       " 1,\n",
       " 1,\n",
       " 1,\n",
       " 1,\n",
       " 1,\n",
       " 0,\n",
       " 1,\n",
       " 1,\n",
       " 1,\n",
       " 1,\n",
       " 1,\n",
       " 1,\n",
       " 1,\n",
       " 1,\n",
       " 1,\n",
       " 1,\n",
       " 0,\n",
       " 0,\n",
       " 1,\n",
       " 1,\n",
       " 1,\n",
       " 1,\n",
       " 1,\n",
       " 1,\n",
       " 1,\n",
       " 1,\n",
       " 1,\n",
       " 1,\n",
       " 1,\n",
       " 1,\n",
       " 1,\n",
       " 1,\n",
       " 1,\n",
       " 1,\n",
       " 1,\n",
       " 1,\n",
       " 1,\n",
       " 1,\n",
       " 1,\n",
       " 1,\n",
       " 1,\n",
       " 1,\n",
       " 1,\n",
       " 1,\n",
       " 1,\n",
       " 1,\n",
       " 1,\n",
       " 1,\n",
       " 0,\n",
       " 0,\n",
       " 0,\n",
       " 1,\n",
       " 1,\n",
       " 1,\n",
       " 1,\n",
       " 1,\n",
       " 1,\n",
       " 1,\n",
       " 1,\n",
       " 1,\n",
       " 1,\n",
       " 1,\n",
       " 0,\n",
       " 1,\n",
       " 1,\n",
       " 1,\n",
       " 1,\n",
       " 1,\n",
       " 1,\n",
       " 1,\n",
       " 1,\n",
       " 1,\n",
       " 1,\n",
       " 1,\n",
       " 1,\n",
       " 1,\n",
       " 1,\n",
       " 1,\n",
       " 1,\n",
       " 1,\n",
       " 1,\n",
       " 1,\n",
       " 0,\n",
       " 1,\n",
       " 0,\n",
       " 1,\n",
       " ...]"
      ]
     },
     "execution_count": 6,
     "metadata": {},
     "output_type": "execute_result"
    }
   ],
   "source": [
    "# create graph\n",
    "G = nx.MultiGraph()\n",
    "G.add_edges_from(edges)"
   ]
  },
  {
   "cell_type": "code",
   "execution_count": 7,
   "id": "913ea8b4",
   "metadata": {},
   "outputs": [
    {
     "data": {
      "text/plain": [
       "<networkx.classes.multigraph.MultiGraph at 0x1be8f5d2550>"
      ]
     },
     "execution_count": 7,
     "metadata": {},
     "output_type": "execute_result"
    }
   ],
   "source": [
    "G"
   ]
  },
  {
   "cell_type": "markdown",
   "id": "c60ce0e4",
   "metadata": {},
   "source": [
    "## Pierwotna sieć\n",
    "rząd i rozmiar sieci"
   ]
  },
  {
   "cell_type": "code",
   "execution_count": 8,
   "id": "a76085ea",
   "metadata": {},
   "outputs": [
    {
     "data": {
      "text/plain": [
       "3425"
      ]
     },
     "execution_count": 8,
     "metadata": {},
     "output_type": "execute_result"
    }
   ],
   "source": [
    "# rzad (liczba wierzcholkow)\n",
    "G.number_of_nodes()"
   ]
  },
  {
   "cell_type": "code",
   "execution_count": 9,
   "id": "10672bce",
   "metadata": {},
   "outputs": [
    {
     "data": {
      "text/plain": [
       "67663"
      ]
     },
     "execution_count": 9,
     "metadata": {},
     "output_type": "execute_result"
    }
   ],
   "source": [
    "# rozmiar (liczba krawedzi)\n",
    "G.number_of_edges()"
   ]
  },
  {
   "cell_type": "markdown",
   "id": "3f2d2209",
   "metadata": {},
   "source": [
    "## Usunięcie pętli i podwójnych krawędzi\n",
    "Następnie ponowne zbadanie sieci: rzędu i rozmiaru"
   ]
  },
  {
   "cell_type": "code",
   "execution_count": 10,
   "id": "d3838bef",
   "metadata": {},
   "outputs": [
    {
     "data": {
      "text/plain": [
       "networkx.classes.graph.Graph"
      ]
     },
     "execution_count": 10,
     "metadata": {},
     "output_type": "execute_result"
    }
   ],
   "source": [
    "# usuniecie petli\n",
    "G.remove_edges_from(nx.selfloop_edges(G))\n",
    "\n",
    "# przeksztalcenie grafu na graf bez zdublowanych krawedzi\n",
    "G2 = nx.Graph()\n",
    "G2.add_edges_from(G.edges())\n",
    "\n",
    "# przypisanie obliczonego grafu do zmiennej G\n",
    "G = G2\n",
    "type(G)"
   ]
  },
  {
   "cell_type": "code",
   "execution_count": 11,
   "id": "b4738bdf",
   "metadata": {},
   "outputs": [
    {
     "data": {
      "text/plain": [
       "3425"
      ]
     },
     "execution_count": 11,
     "metadata": {},
     "output_type": "execute_result"
    }
   ],
   "source": [
    "# rzad \n",
    "G.number_of_nodes()"
   ]
  },
  {
   "cell_type": "code",
   "execution_count": 12,
   "id": "04043e75",
   "metadata": {},
   "outputs": [
    {
     "data": {
      "text/plain": [
       "19256"
      ]
     },
     "execution_count": 12,
     "metadata": {},
     "output_type": "execute_result"
    }
   ],
   "source": [
    "# rozmiar\n",
    "G.number_of_edges()"
   ]
  },
  {
   "cell_type": "markdown",
   "id": "8ddd1dab",
   "metadata": {},
   "source": [
    "Liczba krawędzi zmniejszyła się ponad 3-krotnie"
   ]
  },
  {
   "cell_type": "code",
   "execution_count": 39,
   "id": "1134c4fb",
   "metadata": {},
   "outputs": [],
   "source": [
    "# largest connected component\n",
    "largest_cc = max(nx.connected_components(G), key=len)\n",
    "GCC = G.subgraph(largest_cc).copy()"
   ]
  },
  {
   "cell_type": "code",
   "execution_count": 40,
   "id": "581a1eec",
   "metadata": {},
   "outputs": [
    {
     "data": {
      "text/plain": [
       "3397"
      ]
     },
     "execution_count": 40,
     "metadata": {},
     "output_type": "execute_result"
    }
   ],
   "source": [
    "# rzad najwiekszego spojnego komponentu\n",
    "GCC.number_of_nodes()"
   ]
  },
  {
   "cell_type": "code",
   "execution_count": 41,
   "id": "ad53c442",
   "metadata": {},
   "outputs": [
    {
     "data": {
      "text/plain": [
       "19230"
      ]
     },
     "execution_count": 41,
     "metadata": {},
     "output_type": "execute_result"
    }
   ],
   "source": [
    "# rozmiar najwiekszego spojnego komponentu\n",
    "GCC.number_of_edges()"
   ]
  },
  {
   "cell_type": "markdown",
   "id": "46397a82",
   "metadata": {},
   "source": [
    "Jak widać pierwotny graf nie był spójny - posiadał 3425 wierzchołków, a największy spójny podgraf ma 3397 wierzchołków."
   ]
  },
  {
   "cell_type": "markdown",
   "id": "768dab32",
   "metadata": {},
   "source": [
    "## Aproksymacja średniej długości ścieżki"
   ]
  },
  {
   "cell_type": "code",
   "execution_count": 42,
   "id": "ffc8e901",
   "metadata": {},
   "outputs": [
    {
     "name": "stdout",
     "output_type": "stream",
     "text": [
      "4.13\n"
     ]
    }
   ],
   "source": [
    "# 100 el. proba losowa ('losowanie' ze zwracaniem)\n",
    "k = 100\n",
    "spaths_length = np.zeros(k, dtype=np.int32)\n",
    "for i in range(k):\n",
    "    random_nodes = random.sample(list(GCC.nodes()), 2)\n",
    "    spaths_length[i] = (nx.shortest_path_length(GCC, random_nodes[0], random_nodes[1]))\n",
    "    \n",
    "print(np.mean(spaths_length))"
   ]
  },
  {
   "cell_type": "code",
   "execution_count": 43,
   "id": "38602039",
   "metadata": {},
   "outputs": [
    {
     "name": "stdout",
     "output_type": "stream",
     "text": [
      "4.087\n"
     ]
    }
   ],
   "source": [
    "# 1000 el. proba losowa\n",
    "k = 1000\n",
    "spaths_length = np.zeros(k, dtype=np.int32)\n",
    "for i in range(k):\n",
    "    random_nodes = random.sample(list(GCC.nodes()), 2)\n",
    "    spaths_length[i] = (nx.shortest_path_length(GCC, random_nodes[0], random_nodes[1]))\n",
    "    \n",
    "print(np.mean(spaths_length))"
   ]
  },
  {
   "cell_type": "code",
   "execution_count": 44,
   "id": "c69401c6",
   "metadata": {},
   "outputs": [
    {
     "name": "stdout",
     "output_type": "stream",
     "text": [
      "4.109\n"
     ]
    }
   ],
   "source": [
    "# 10000 el. proba losowa\n",
    "k = 10000\n",
    "spaths_length = np.zeros(k, dtype=np.int32)\n",
    "for i in range(k):\n",
    "    random_nodes = random.sample(list(GCC.nodes()), 2)\n",
    "    spaths_length[i] = (nx.shortest_path_length(GCC, random_nodes[0], random_nodes[1]))\n",
    "    \n",
    "print(np.mean(spaths_length))"
   ]
  },
  {
   "cell_type": "markdown",
   "id": "9d9b4d4e",
   "metadata": {},
   "source": [
    "## Badanie rdzeni"
   ]
  },
  {
   "cell_type": "code",
   "execution_count": 19,
   "id": "881757d1",
   "metadata": {},
   "outputs": [
    {
     "name": "stdout",
     "output_type": "stream",
     "text": [
      "Graph with 93 nodes and 2257 edges\n",
      "minimalny stopien wierzcholka w rdzeniu (rzad rdzenia) 31\n",
      "Rzad = 31 , liczba rdzeni = 1\n"
     ]
    }
   ],
   "source": [
    "# rdzen o maksymalnym rzedzie\n",
    "G_core = nx.k_core(GCC)\n",
    "print(G_core)\n",
    "k_max_1 = min([ degree for (node, degree) in G_core.degree()])\n",
    "print(\"minimalny stopien wierzcholka w rdzeniu (rzad rdzenia) {}\".format(k_max_1))\n",
    "\n",
    "components = [nx.connected_components(G_core)]\n",
    "print(\"Rzad = {} , liczba rdzeni = {}\".format(k_max_1, len(components)))"
   ]
  },
  {
   "cell_type": "code",
   "execution_count": 20,
   "id": "545c9e02",
   "metadata": {},
   "outputs": [
    {
     "name": "stdout",
     "output_type": "stream",
     "text": [
      "Graph with 138 nodes and 3410 edges\n",
      "minimalny stopien wierzcholka w rdzeniu 30\n",
      "Rzad = 30 , liczba rdzeni = 1\n"
     ]
    }
   ],
   "source": [
    "# rdzen o drugim mozliwie najwiekszym rzedzie\n",
    "k_max_2 = k_max_1 - 1\n",
    "G_core = nx.k_core(GCC, 30)\n",
    "print(G_core)\n",
    "print(\"minimalny stopien wierzcholka w rdzeniu {}\".format(min([ degree for (node, degree) in G_core.degree()])))\n",
    "\n",
    "components = [nx.connected_components(G_core)]\n",
    "print(\"Rzad = {} , liczba rdzeni = {}\".format(k_max_2, len(components)))"
   ]
  },
  {
   "cell_type": "code",
   "execution_count": 21,
   "id": "e4ef2928",
   "metadata": {},
   "outputs": [
    {
     "name": "stdout",
     "output_type": "stream",
     "text": [
      "Graph with 149 nodes and 3728 edges\n",
      "minimalny stopien wierzcholka w rdzeniu 29\n",
      "Rzad = 29 , liczba rdzeni = 1\n"
     ]
    }
   ],
   "source": [
    "# rdzen o trzecim mozliwie najwiekszym rzedzie\n",
    "k_max_2 = k_max_2 - 1\n",
    "G_core = nx.k_core(GCC, k_max_2).copy()\n",
    "print(G_core)\n",
    "print(\"minimalny stopien wierzcholka w rdzeniu {}\".format(min([ degree for (node, degree) in G_core.degree()])))\n",
    "\n",
    "components = [nx.connected_components(G_core)]\n",
    "print(\"Rzad = {} , liczba rdzeni = {}\".format(k_max_2, len(components)))"
   ]
  },
  {
   "cell_type": "markdown",
   "id": "1b383002",
   "metadata": {},
   "source": [
    "Rdzeń główny jest rzędu 31 i jest spójny - tylko jeden spójny podgraf będący rdzeniem rzędu 31. Podobnie dla pozostałych rdzeniów rzędu 30 i 29."
   ]
  },
  {
   "cell_type": "markdown",
   "id": "680c31b1",
   "metadata": {},
   "source": [
    "## Rozkład stopni wierzchołków"
   ]
  },
  {
   "cell_type": "code",
   "execution_count": 22,
   "id": "3847db98",
   "metadata": {},
   "outputs": [
    {
     "data": {
      "image/png": "[encoded data removed]",
      "text/plain": [
       "<Figure size 640x480 with 1 Axes>"
      ]
     },
     "metadata": {},
     "output_type": "display_data"
    }
   ],
   "source": [
    "fig = plt.figure(1)\n",
    "plt.hist([degree for (node, degree) in GCC.degree()], bins=40)\n",
    "plt.xlabel(\"node's degree\")\n",
    "plt.ylabel(\"number of nodes\")\n",
    "plt.title(\"Nodes' degrees distribution\")\n",
    "plt.show()"
   ]
  },
  {
   "cell_type": "markdown",
   "id": "3e7596cf",
   "metadata": {},
   "source": [
    "## Rozkład potęgowy\n",
    "Wyznaczenie współczynnika metodą regresji dla dopełnienia dystrybuanty rozkładu stopni, dla przedziałów rozlokowanych logarytmicznie"
   ]
  },
  {
   "cell_type": "code",
   "execution_count": 23,
   "id": "17c159f3",
   "metadata": {},
   "outputs": [],
   "source": [
    "degrees = [degree for (node, degree) in GCC.degree()]"
   ]
  },
  {
   "cell_type": "code",
   "execution_count": 24,
   "id": "2415130a",
   "metadata": {},
   "outputs": [],
   "source": [
    "counted_degrees = np.histogram(degrees, max(degrees)- min(degrees))"
   ]
  },
  {
   "cell_type": "code",
   "execution_count": 25,
   "id": "4f405724",
   "metadata": {},
   "outputs": [
    {
     "data": {
      "text/plain": [
       "Text(0, 0.5, 'liczba wierzcholkow')"
      ]
     },
     "execution_count": 25,
     "metadata": {},
     "output_type": "execute_result"
    },
    {
     "data": {
      "image/png": "[encoded data removed]",
      "text/plain": [
       "<Figure size 640x480 with 1 Axes>"
      ]
     },
     "metadata": {},
     "output_type": "display_data"
    }
   ],
   "source": [
    "# rozklad stopni wierzcholkow w skali podwojnie logarytmicznej (obie osie)\n",
    "plt.loglog( counted_degrees[1], np.append(counted_degrees[0],0), 'bo')\n",
    "plt.title(\"Rozklad stopni wierzcholkow w skali podwojnie logarytmicznej\")\n",
    "plt.xlabel(\"stopien wierzcholka\")\n",
    "plt.ylabel(\"liczba wierzcholkow\")"
   ]
  },
  {
   "cell_type": "code",
   "execution_count": 26,
   "id": "df3253f5",
   "metadata": {},
   "outputs": [],
   "source": [
    "# utworzenie logarytmicznych pudelek do histogramu\n",
    "log_bins = np.append([0], np.logspace(0, 3, 15, base=10))\n",
    "\n",
    "# wyznaczenie histogramu dla zadanych pudelek\n",
    "H, X1 = np.histogram(degrees, log_bins)\n",
    "H = np.append(H, 0)"
   ]
  },
  {
   "cell_type": "code",
   "execution_count": 27,
   "id": "59970b59",
   "metadata": {},
   "outputs": [
    {
     "data": {
      "text/plain": [
       "array([  0, 753, 736, 640, 358, 251, 198, 145, 137,  87,  60,  28,   4,\n",
       "         0,   0,   0], dtype=int64)"
      ]
     },
     "execution_count": 27,
     "metadata": {},
     "output_type": "execute_result"
    }
   ],
   "source": [
    "H"
   ]
  },
  {
   "cell_type": "code",
   "execution_count": 28,
   "id": "b597a4fb",
   "metadata": {},
   "outputs": [
    {
     "data": {
      "text/plain": [
       "array([3397, 2644, 1908, 1268,  910,  659,  461,  316,  179,   92,   32,\n",
       "          4,    0,    0,    0,    0], dtype=int64)"
      ]
     },
     "execution_count": 28,
     "metadata": {},
     "output_type": "execute_result"
    }
   ],
   "source": [
    "# wyznaczenie dopelnienia dystrybuanty\n",
    "H_cum = np.sum(H) - np.cumsum(H)\n",
    "H_cum"
   ]
  },
  {
   "cell_type": "code",
   "execution_count": 29,
   "id": "3962bbcb",
   "metadata": {},
   "outputs": [
    {
     "data": {
      "text/plain": [
       "Text(0, 0.5, 'liczba wierzcholkow')"
      ]
     },
     "execution_count": 29,
     "metadata": {},
     "output_type": "execute_result"
    },
    {
     "data": {
      "image/png": "[encoded data removed]",
      "text/plain": [
       "<Figure size 640x480 with 1 Axes>"
      ]
     },
     "metadata": {},
     "output_type": "display_data"
    }
   ],
   "source": [
    "# rozklad stopni wierzcholkow (dopelnienie dystrybuanty) w skali podwojnie logarytmicznej z logarytmicznymi przedzialami (pudelkami)\n",
    "x = X1\n",
    "y = H_cum\n",
    "plt.loglog(x, y, 'bo')\n",
    "plt.title(\"Rozklad stopni wierzcholkow (dopelnienie dystrybuanty) w skali podwojnie logarytmicznej z logarytmicznymi przedzialami (pudelkami)\")\n",
    "plt.xlabel(\"stopien wierzcholka\")\n",
    "plt.ylabel(\"liczba wierzcholkow\")"
   ]
  },
  {
   "cell_type": "markdown",
   "id": "a61459af",
   "metadata": {},
   "source": [
    "### Wyznaczenie regresji liniowej"
   ]
  },
  {
   "cell_type": "code",
   "execution_count": 30,
   "id": "5ab0b075",
   "metadata": {},
   "outputs": [],
   "source": [
    "# zapis funkcji rozkladu wierzcholkow (przedstawionego powyzej) w tablicy\n",
    "fun = np.array((x,y)).T"
   ]
  },
  {
   "cell_type": "code",
   "execution_count": 31,
   "id": "5eb148ec",
   "metadata": {},
   "outputs": [],
   "source": [
    "funlog10 = np.array([[np.log10(vals[0]), np.log10(vals[1])] for vals in fun if vals[0]>0 and vals[1]>0]).T\n",
    "xlog10 = funlog10[0].reshape((-1, 1))\n",
    "ylog10 = funlog10[1]"
   ]
  },
  {
   "cell_type": "code",
   "execution_count": 32,
   "id": "61fab2ee",
   "metadata": {},
   "outputs": [
    {
     "data": {
      "text/html": [
       "<style>#sk-container-id-1 {color: black;background-color: white;}#sk-container-id-1 pre{padding: 0;}#sk-container-id-1 div.sk-toggleable {background-color: white;}#sk-container-id-1 label.sk-toggleable__label {cursor: pointer;display: block;width: 100%;margin-bottom: 0;padding: 0.3em;box-sizing: border-box;text-align: center;}#sk-container-id-1 label.sk-toggleable__label-arrow:before {content: \"▸\";float: left;margin-right: 0.25em;color: #696969;}#sk-container-id-1 label.sk-toggleable__label-arrow:hover:before {color: black;}#sk-container-id-1 div.sk-estimator:hover label.sk-toggleable__label-arrow:before {color: black;}#sk-container-id-1 div.sk-toggleable__content {max-height: 0;max-width: 0;overflow: hidden;text-align: left;background-color: #f0f8ff;}#sk-container-id-1 div.sk-toggleable__content pre {margin: 0.2em;color: black;border-radius: 0.25em;background-color: #f0f8ff;}#sk-container-id-1 input.sk-toggleable__control:checked~div.sk-toggleable__content {max-height: 200px;max-width: 100%;overflow: auto;}#sk-container-id-1 input.sk-toggleable__control:checked~label.sk-toggleable__label-arrow:before {content: \"▾\";}#sk-container-id-1 div.sk-estimator input.sk-toggleable__control:checked~label.sk-toggleable__label {background-color: #d4ebff;}#sk-container-id-1 div.sk-label input.sk-toggleable__control:checked~label.sk-toggleable__label {background-color: #d4ebff;}#sk-container-id-1 input.sk-hidden--visually {border: 0;clip: rect(1px 1px 1px 1px);clip: rect(1px, 1px, 1px, 1px);height: 1px;margin: -1px;overflow: hidden;padding: 0;position: absolute;width: 1px;}#sk-container-id-1 div.sk-estimator {font-family: monospace;background-color: #f0f8ff;border: 1px dotted black;border-radius: 0.25em;box-sizing: border-box;margin-bottom: 0.5em;}#sk-container-id-1 div.sk-estimator:hover {background-color: #d4ebff;}#sk-container-id-1 div.sk-parallel-item::after {content: \"\";width: 100%;border-bottom: 1px solid gray;flex-grow: 1;}#sk-container-id-1 div.sk-label:hover label.sk-toggleable__label {background-color: #d4ebff;}#sk-container-id-1 div.sk-serial::before {content: \"\";position: absolute;border-left: 1px solid gray;box-sizing: border-box;top: 0;bottom: 0;left: 50%;z-index: 0;}#sk-container-id-1 div.sk-serial {display: flex;flex-direction: column;align-items: center;background-color: white;padding-right: 0.2em;padding-left: 0.2em;position: relative;}#sk-container-id-1 div.sk-item {position: relative;z-index: 1;}#sk-container-id-1 div.sk-parallel {display: flex;align-items: stretch;justify-content: center;background-color: white;position: relative;}#sk-container-id-1 div.sk-item::before, #sk-container-id-1 div.sk-parallel-item::before {content: \"\";position: absolute;border-left: 1px solid gray;box-sizing: border-box;top: 0;bottom: 0;left: 50%;z-index: -1;}#sk-container-id-1 div.sk-parallel-item {display: flex;flex-direction: column;z-index: 1;position: relative;background-color: white;}#sk-container-id-1 div.sk-parallel-item:first-child::after {align-self: flex-end;width: 50%;}#sk-container-id-1 div.sk-parallel-item:last-child::after {align-self: flex-start;width: 50%;}#sk-container-id-1 div.sk-parallel-item:only-child::after {width: 0;}#sk-container-id-1 div.sk-dashed-wrapped {border: 1px dashed gray;margin: 0 0.4em 0.5em 0.4em;box-sizing: border-box;padding-bottom: 0.4em;background-color: white;}#sk-container-id-1 div.sk-label label {font-family: monospace;font-weight: bold;display: inline-block;line-height: 1.2em;}#sk-container-id-1 div.sk-label-container {text-align: center;}#sk-container-id-1 div.sk-container {/* jupyter's `normalize.less` sets `[hidden] { display: none; }` but bootstrap.min.css set `[hidden] { display: none !important; }` so we also need the `!important` here to be able to override the default hidden behavior on the sphinx rendered scikit-learn.org. See: https://github.com/scikit-learn/scikit-learn/issues/21755 */display: inline-block !important;position: relative;}#sk-container-id-1 div.sk-text-repr-fallback {display: none;}</style><div id=\"sk-container-id-1\" class=\"sk-top-container\"><div class=\"sk-text-repr-fallback\"><pre>LinearRegression()</pre><b>In a Jupyter environment, please rerun this cell to show the HTML representation or trust the notebook. <br />On GitHub, the HTML representation is unable to render, please try loading this page with nbviewer.org.</b></div><div class=\"sk-container\" hidden><div class=\"sk-item\"><div class=\"sk-estimator sk-toggleable\"><input class=\"sk-toggleable__control sk-hidden--visually\" id=\"sk-estimator-id-1\" type=\"checkbox\" checked><label for=\"sk-estimator-id-1\" class=\"sk-toggleable__label sk-toggleable__label-arrow\">LinearRegression</label><div class=\"sk-toggleable__content\"><pre>LinearRegression()</pre></div></div></div></div></div>"
      ],
      "text/plain": [
       "LinearRegression()"
      ]
     },
     "execution_count": 32,
     "metadata": {},
     "output_type": "execute_result"
    }
   ],
   "source": [
    "model = LinearRegression()\n",
    "model.fit(xlog10, ylog10)"
   ]
  },
  {
   "cell_type": "code",
   "execution_count": 33,
   "id": "54dfdfe7",
   "metadata": {},
   "outputs": [
    {
     "name": "stdout",
     "output_type": "stream",
     "text": [
      "y(x) = x * (-1.1179759478312457) + 3.6588427106421406\n"
     ]
    }
   ],
   "source": [
    "xr = 10 ** xlog10\n",
    "yr = 10 ** (xlog10 * model.coef_ + model.intercept_)\n",
    "print(\"y(x) = x * ({}) + {}\".format(model.coef_[0], model.intercept_))"
   ]
  },
  {
   "cell_type": "code",
   "execution_count": 34,
   "id": "df2a001f",
   "metadata": {},
   "outputs": [
    {
     "data": {
      "text/plain": [
       "Text(0, 0.5, 'liczba wierzcholkow')"
      ]
     },
     "execution_count": 34,
     "metadata": {},
     "output_type": "execute_result"
    },
    {
     "data": {
      "image/png": "[encoded data removed]",
      "text/plain": [
       "<Figure size 640x480 with 1 Axes>"
      ]
     },
     "metadata": {},
     "output_type": "display_data"
    }
   ],
   "source": [
    "# regresja liniowa rozkladu stopni wierzcholkow - dopelnienie dystrybuanty\n",
    "plt.loglog(x, y, 'bo')\n",
    "plt.loglog(xr, yr, 'g-')\n",
    "plt.title(\"Rozklad stopni wierzcholkow (dopelnienie dystrybuanty) z wyznaczona regresja liniowa\")\n",
    "plt.xlabel(\"stopien wierzcholka\")\n",
    "plt.ylabel(\"liczba wierzcholkow\")"
   ]
  },
  {
   "cell_type": "markdown",
   "id": "addacf35",
   "metadata": {},
   "source": [
    "## Wykres Hilla\n",
    "Estymacja współczynnika rozkładu potęgowego metodą największej wiarygodności z odrzuceniem początkowego fragmentu rozkładu - estymator Hilla.\n",
    "Wykresem Hilla jest zależność estymatora od liczby uwzględnionych końcowych próbek."
   ]
  },
  {
   "cell_type": "code",
   "execution_count": 45,
   "id": "8758ab0a",
   "metadata": {},
   "outputs": [],
   "source": [
    "# \n",
    "degrees_sorted = np.sort(degrees)\n",
    "N = len(degrees)\n",
    "k_range = range(2, N+1)\n",
    "a_k = np.zeros(N-1, dtype=np.float64)\n",
    "for k in range(2, N+1):\n",
    "    y_k = 1/k * np.sum(np.log(degrees_sorted[N-k : ]/degrees_sorted[N-k]))\n",
    "    a_k[k-2] = (1 + y_k ** -1)"
   ]
  },
  {
   "cell_type": "code",
   "execution_count": 46,
   "id": "a3a02355",
   "metadata": {},
   "outputs": [
    {
     "data": {
      "text/plain": [
       "array([123.99728993,  61.82833006,  41.10407821, ...,   1.71143672,\n",
       "         1.71164627,   1.71185583])"
      ]
     },
     "execution_count": 46,
     "metadata": {},
     "output_type": "execute_result"
    }
   ],
   "source": [
    "a_k"
   ]
  },
  {
   "cell_type": "code",
   "execution_count": 37,
   "id": "31d24f13",
   "metadata": {},
   "outputs": [
    {
     "data": {
      "text/plain": [
       "Text(0, 0.5, 'alfa - estymator Hilla')"
      ]
     },
     "execution_count": 37,
     "metadata": {},
     "output_type": "execute_result"
    },
    {
     "data": {
      "image/png": "[encoded data removed]",
      "text/plain": [
       "<Figure size 640x480 with 1 Axes>"
      ]
     },
     "metadata": {},
     "output_type": "display_data"
    }
   ],
   "source": [
    "# caly wykres Hilla - przedstawia wspolczynnik alfa rozkladu potegowego dla k bedacego w przedziale [1, N]\n",
    "start_idx = 0\n",
    "plt.plot(k_range[start_idx:], a_k[start_idx:], '-')\n",
    "plt.title(\"Wykres Hilla - wspolczynnik rozkladu potegowego\")\n",
    "plt.xlabel(\"k - liczba uwzglednionych koncowych probek\")\n",
    "plt.ylabel(\"alfa - estymator Hilla\")"
   ]
  },
  {
   "cell_type": "code",
   "execution_count": 38,
   "id": "147668cb",
   "metadata": {},
   "outputs": [
    {
     "data": {
      "text/plain": [
       "Text(0, 0.5, 'alfa - estymator Hilla')"
      ]
     },
     "execution_count": 38,
     "metadata": {},
     "output_type": "execute_result"
    },
    {
     "data": {
      "image/png": "[encoded data removed]",
      "text/plain": [
       "<Figure size 640x480 with 1 Axes>"
      ]
     },
     "metadata": {},
     "output_type": "display_data"
    }
   ],
   "source": [
    "# fragment wykresu od elementu 5-tego\n",
    "start_idx = 5\n",
    "plt.plot(k_range[start_idx:], a_k[start_idx:], '-')\n",
    "plt.title(\"Wykres Hilla - wspolczynnik rozkladu potegowego, rozpoczynajac od k = 7\")\n",
    "plt.xlabel(\"k - liczba uwzglednionych koncowych probek\")\n",
    "plt.ylabel(\"alfa - estymator Hilla\")"
   ]
  }
 ],
 "metadata": {
  "kernelspec": {
   "display_name": "Python 3 (ipykernel)",
   "language": "python",
   "name": "python3"
  },
  "language_info": {
   "codemirror_mode": {
    "name": "ipython",
    "version": 3
   },
   "file_extension": ".py",
   "mimetype": "text/x-python",
   "name": "python",
   "nbconvert_exporter": "python",
   "pygments_lexer": "ipython3",
   "version": "3.9.12"
  }
 },
 "nbformat": 4,
 "nbformat_minor": 5
}
